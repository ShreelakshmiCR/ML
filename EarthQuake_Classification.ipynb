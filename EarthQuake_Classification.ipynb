{
  "nbformat": 4,
  "nbformat_minor": 0,
  "metadata": {
    "colab": {
      "name": "EarthQuake_Classification.ipynb",
      "provenance": [],
      "collapsed_sections": []
    },
    "kernelspec": {
      "display_name": "Python 3",
      "name": "python3"
    },
    "language_info": {
      "name": "python"
    }
  },
  "cells": [
    {
      "cell_type": "code",
      "metadata": {
        "id": "hWJQEViIMc35"
      },
      "source": [
        "import tensorflow as tf\n",
        "import sklearn\n",
        "import numpy as np\n",
        "import pandas as pd\n",
        "import matplotlib.pyplot as plt\n",
        "import seaborn as sns\n",
        "from IPython.display import display, Image\n",
        "from pandas import get_dummies\n",
        "from sklearn.model_selection import train_test_split \n",
        "\n",
        "# Config the matlotlib backend as plotting inline in IPython\n",
        "%matplotlib inline"
      ],
      "execution_count": null,
      "outputs": []
    },
    {
      "cell_type": "code",
      "metadata": {
        "colab": {
          "base_uri": "https://localhost:8080/"
        },
        "id": "ak9SX2YR8qoe",
        "outputId": "2b86c993-c932-463f-f370-c21655cc0863"
      },
      "source": [
        "from google.colab import drive\n",
        "drive.mount('/content/drive')"
      ],
      "execution_count": null,
      "outputs": [
        {
          "output_type": "stream",
          "name": "stdout",
          "text": [
            "Drive already mounted at /content/drive; to attempt to forcibly remount, call drive.mount(\"/content/drive\", force_remount=True).\n"
          ]
        }
      ]
    },
    {
      "cell_type": "code",
      "metadata": {
        "id": "5uyDWrgZQGzL",
        "colab": {
          "base_uri": "https://localhost:8080/"
        },
        "outputId": "7c7083fe-3175-4e72-a94c-c02a89a59eb1"
      },
      "source": [
        "data=pd.read_csv('/content/drive/MyDrive/FML/stead_earthquake.csv')"
      ],
      "execution_count": null,
      "outputs": [
        {
          "output_type": "stream",
          "name": "stderr",
          "text": [
            "/usr/local/lib/python3.7/dist-packages/IPython/core/interactiveshell.py:2718: DtypeWarning: Columns (26) have mixed types.Specify dtype option on import or set low_memory=False.\n",
            "  interactivity=interactivity, compiler=compiler, result=result)\n"
          ]
        }
      ]
    },
    {
      "cell_type": "code",
      "metadata": {
        "colab": {
          "base_uri": "https://localhost:8080/"
        },
        "id": "dC9aQyqgQX4m",
        "outputId": "a99524ba-fc82-43ae-ac89-2a4ccb808dd1"
      },
      "source": [
        "data.shape"
      ],
      "execution_count": null,
      "outputs": [
        {
          "output_type": "execute_result",
          "data": {
            "text/plain": [
              "(1058954, 35)"
            ]
          },
          "metadata": {},
          "execution_count": 25
        }
      ]
    },
    {
      "cell_type": "markdown",
      "metadata": {
        "id": "JKut-Q84Qckk"
      },
      "source": [
        "Adding a column for Dataframe for classification (0-low,1-moderate,2-high)"
      ]
    },
    {
      "cell_type": "code",
      "metadata": {
        "id": "QttEFPE9QcGW"
      },
      "source": [
        "data[\"Class\"]=\"0\""
      ],
      "execution_count": null,
      "outputs": []
    },
    {
      "cell_type": "code",
      "metadata": {
        "colab": {
          "base_uri": "https://localhost:8080/"
        },
        "id": "Qgi9Z6ZwSswf",
        "outputId": "df545f3f-91f5-453d-ec0d-6bbc219d10d1"
      },
      "source": [
        "data.shape"
      ],
      "execution_count": null,
      "outputs": [
        {
          "output_type": "execute_result",
          "data": {
            "text/plain": [
              "(1058954, 36)"
            ]
          },
          "metadata": {},
          "execution_count": 27
        }
      ]
    },
    {
      "cell_type": "markdown",
      "metadata": {
        "id": "Ya2B8bWp1Xol"
      },
      "source": [
        " **Classifying based on Source_magnitude**\n",
        "\n",
        "---\n",
        "\n"
      ]
    },
    {
      "cell_type": "code",
      "metadata": {
        "id": "NHQjAlbFTajj"
      },
      "source": [
        "def add_column(x):\n",
        "  if x<2.5:\n",
        "    return 0\n",
        "  elif x>4.5:\n",
        "    return 2\n",
        "  else:\n",
        "    return 1"
      ],
      "execution_count": null,
      "outputs": []
    },
    {
      "cell_type": "code",
      "metadata": {
        "id": "oEEQqDN7VQ16"
      },
      "source": [
        "data[\"Class\"]=data[\"source_magnitude\"].apply(add_column)"
      ],
      "execution_count": null,
      "outputs": []
    },
    {
      "cell_type": "code",
      "metadata": {
        "colab": {
          "base_uri": "https://localhost:8080/",
          "height": 382
        },
        "id": "S44y6a-6XrGH",
        "outputId": "b3700330-a63c-40d8-d629-35e6fca52c9f"
      },
      "source": [
        "data.head()"
      ],
      "execution_count": null,
      "outputs": [
        {
          "output_type": "execute_result",
          "data": {
            "text/html": [
              "<div>\n",
              "<style scoped>\n",
              "    .dataframe tbody tr th:only-of-type {\n",
              "        vertical-align: middle;\n",
              "    }\n",
              "\n",
              "    .dataframe tbody tr th {\n",
              "        vertical-align: top;\n",
              "    }\n",
              "\n",
              "    .dataframe thead th {\n",
              "        text-align: right;\n",
              "    }\n",
              "</style>\n",
              "<table border=\"1\" class=\"dataframe\">\n",
              "  <thead>\n",
              "    <tr style=\"text-align: right;\">\n",
              "      <th></th>\n",
              "      <th>network_code</th>\n",
              "      <th>receiver_code</th>\n",
              "      <th>receiver_type</th>\n",
              "      <th>receiver_latitude</th>\n",
              "      <th>receiver_longitude</th>\n",
              "      <th>receiver_elevation_m</th>\n",
              "      <th>p_arrival_sample</th>\n",
              "      <th>p_status</th>\n",
              "      <th>p_weight</th>\n",
              "      <th>p_travel_sec</th>\n",
              "      <th>s_arrival_sample</th>\n",
              "      <th>s_status</th>\n",
              "      <th>s_weight</th>\n",
              "      <th>source_id</th>\n",
              "      <th>source_origin_time</th>\n",
              "      <th>source_origin_uncertainty_sec</th>\n",
              "      <th>source_latitude</th>\n",
              "      <th>source_longitude</th>\n",
              "      <th>source_error_sec</th>\n",
              "      <th>source_gap_deg</th>\n",
              "      <th>source_horizontal_uncertainty_km</th>\n",
              "      <th>source_depth_km</th>\n",
              "      <th>source_depth_uncertainty_km</th>\n",
              "      <th>source_magnitude</th>\n",
              "      <th>source_magnitude_type</th>\n",
              "      <th>source_magnitude_author</th>\n",
              "      <th>source_mechanism_strike_dip_rake</th>\n",
              "      <th>source_distance_deg</th>\n",
              "      <th>source_distance_km</th>\n",
              "      <th>back_azimuth_deg</th>\n",
              "      <th>snr_db</th>\n",
              "      <th>coda_end_sample</th>\n",
              "      <th>trace_start_time</th>\n",
              "      <th>trace_category</th>\n",
              "      <th>trace_name</th>\n",
              "      <th>Class</th>\n",
              "    </tr>\n",
              "  </thead>\n",
              "  <tbody>\n",
              "    <tr>\n",
              "      <th>0</th>\n",
              "      <td>TA</td>\n",
              "      <td>109C</td>\n",
              "      <td>BH</td>\n",
              "      <td>32.8889</td>\n",
              "      <td>-117.1051</td>\n",
              "      <td>150.0</td>\n",
              "      <td>700.0</td>\n",
              "      <td>manual</td>\n",
              "      <td>0.5</td>\n",
              "      <td>17.08</td>\n",
              "      <td>1894.0</td>\n",
              "      <td>manual</td>\n",
              "      <td>0.5</td>\n",
              "      <td>8556349</td>\n",
              "      <td>2006-07-23 15:58:50.88</td>\n",
              "      <td>0.47</td>\n",
              "      <td>33.7496</td>\n",
              "      <td>-117.4938</td>\n",
              "      <td>1.1119</td>\n",
              "      <td>107.466</td>\n",
              "      <td>4.6403</td>\n",
              "      <td>0.45</td>\n",
              "      <td>NaN</td>\n",
              "      <td>3.6</td>\n",
              "      <td>ml</td>\n",
              "      <td>NaN</td>\n",
              "      <td>NaN</td>\n",
              "      <td>0.92</td>\n",
              "      <td>102.09</td>\n",
              "      <td>159.3</td>\n",
              "      <td>[56.79999923706055, 55.400001525878906, 47.400...</td>\n",
              "      <td>2896.0</td>\n",
              "      <td>2006-07-23 15:59:00.960000</td>\n",
              "      <td>earthquake_local</td>\n",
              "      <td>109C.TA_20060723155859_EV</td>\n",
              "      <td>1</td>\n",
              "    </tr>\n",
              "    <tr>\n",
              "      <th>1</th>\n",
              "      <td>TA</td>\n",
              "      <td>109C</td>\n",
              "      <td>BH</td>\n",
              "      <td>32.8889</td>\n",
              "      <td>-117.1051</td>\n",
              "      <td>150.0</td>\n",
              "      <td>600.0</td>\n",
              "      <td>manual</td>\n",
              "      <td>0.5</td>\n",
              "      <td>16.88</td>\n",
              "      <td>1763.0</td>\n",
              "      <td>manual</td>\n",
              "      <td>0.5</td>\n",
              "      <td>8860238</td>\n",
              "      <td>2006-11-03 15:56:42.73</td>\n",
              "      <td>0.24</td>\n",
              "      <td>32.7077</td>\n",
              "      <td>-116.0446</td>\n",
              "      <td>0.8990</td>\n",
              "      <td>37.593</td>\n",
              "      <td>2.9542</td>\n",
              "      <td>9.20</td>\n",
              "      <td>NaN</td>\n",
              "      <td>4.3</td>\n",
              "      <td>mb</td>\n",
              "      <td>NaN</td>\n",
              "      <td>NaN</td>\n",
              "      <td>0.91</td>\n",
              "      <td>101.34</td>\n",
              "      <td>281.7</td>\n",
              "      <td>[65.0, 65.5, 61.400001525878906]</td>\n",
              "      <td>5508.0</td>\n",
              "      <td>2006-11-03 15:56:53.610000</td>\n",
              "      <td>earthquake_local</td>\n",
              "      <td>109C.TA_20061103155652_EV</td>\n",
              "      <td>1</td>\n",
              "    </tr>\n",
              "    <tr>\n",
              "      <th>2</th>\n",
              "      <td>TA</td>\n",
              "      <td>109C</td>\n",
              "      <td>BH</td>\n",
              "      <td>32.8889</td>\n",
              "      <td>-117.1051</td>\n",
              "      <td>150.0</td>\n",
              "      <td>500.0</td>\n",
              "      <td>manual</td>\n",
              "      <td>0.5</td>\n",
              "      <td>17.26</td>\n",
              "      <td>1678.0</td>\n",
              "      <td>manual</td>\n",
              "      <td>0.5</td>\n",
              "      <td>8940123</td>\n",
              "      <td>2006-11-03 16:12:12.44</td>\n",
              "      <td>0.27</td>\n",
              "      <td>32.7253</td>\n",
              "      <td>-116.0348</td>\n",
              "      <td>0.8127</td>\n",
              "      <td>48.096</td>\n",
              "      <td>3.0397</td>\n",
              "      <td>12.66</td>\n",
              "      <td>NaN</td>\n",
              "      <td>3.6</td>\n",
              "      <td>ml</td>\n",
              "      <td>NaN</td>\n",
              "      <td>NaN</td>\n",
              "      <td>0.92</td>\n",
              "      <td>101.87</td>\n",
              "      <td>280.5</td>\n",
              "      <td>[37.20000076293945, 42.0, 38.599998474121094]</td>\n",
              "      <td>3114.0</td>\n",
              "      <td>2006-11-03 16:12:24.700000</td>\n",
              "      <td>earthquake_local</td>\n",
              "      <td>109C.TA_20061103161223_EV</td>\n",
              "      <td>1</td>\n",
              "    </tr>\n",
              "    <tr>\n",
              "      <th>3</th>\n",
              "      <td>TA</td>\n",
              "      <td>109C</td>\n",
              "      <td>BH</td>\n",
              "      <td>32.8889</td>\n",
              "      <td>-117.1051</td>\n",
              "      <td>150.0</td>\n",
              "      <td>900.0</td>\n",
              "      <td>manual</td>\n",
              "      <td>0.5</td>\n",
              "      <td>17.28</td>\n",
              "      <td>2086.0</td>\n",
              "      <td>manual</td>\n",
              "      <td>0.5</td>\n",
              "      <td>9443190</td>\n",
              "      <td>2006-11-14 13:32:14.26</td>\n",
              "      <td>0.25</td>\n",
              "      <td>32.7063</td>\n",
              "      <td>-116.0241</td>\n",
              "      <td>0.9173</td>\n",
              "      <td>43.783</td>\n",
              "      <td>2.6112</td>\n",
              "      <td>11.50</td>\n",
              "      <td>NaN</td>\n",
              "      <td>3.8</td>\n",
              "      <td>ml</td>\n",
              "      <td>NaN</td>\n",
              "      <td>NaN</td>\n",
              "      <td>0.93</td>\n",
              "      <td>103.26</td>\n",
              "      <td>281.6</td>\n",
              "      <td>[54.099998474121094, 54.900001525878906, 45.5]</td>\n",
              "      <td>3152.0</td>\n",
              "      <td>2006-11-14 13:32:22.540000</td>\n",
              "      <td>earthquake_local</td>\n",
              "      <td>109C.TA_20061114133221_EV</td>\n",
              "      <td>1</td>\n",
              "    </tr>\n",
              "    <tr>\n",
              "      <th>4</th>\n",
              "      <td>TA</td>\n",
              "      <td>109C</td>\n",
              "      <td>BH</td>\n",
              "      <td>32.8889</td>\n",
              "      <td>-117.1051</td>\n",
              "      <td>150.0</td>\n",
              "      <td>700.0</td>\n",
              "      <td>manual</td>\n",
              "      <td>0.5</td>\n",
              "      <td>18.14</td>\n",
              "      <td>1897.0</td>\n",
              "      <td>manual</td>\n",
              "      <td>0.5</td>\n",
              "      <td>9443449</td>\n",
              "      <td>2006-11-27 10:46:29.92</td>\n",
              "      <td>0.67</td>\n",
              "      <td>31.9679</td>\n",
              "      <td>-117.1944</td>\n",
              "      <td>1.0362</td>\n",
              "      <td>182.145</td>\n",
              "      <td>5.6607</td>\n",
              "      <td>7.26</td>\n",
              "      <td>NaN</td>\n",
              "      <td>3.6</td>\n",
              "      <td>ml</td>\n",
              "      <td>NaN</td>\n",
              "      <td>NaN</td>\n",
              "      <td>0.92</td>\n",
              "      <td>102.48</td>\n",
              "      <td>4.7</td>\n",
              "      <td>[58.20000076293945, 56.20000076293945, 53.7999...</td>\n",
              "      <td>3134.0</td>\n",
              "      <td>2006-11-27 10:46:41.060000</td>\n",
              "      <td>earthquake_local</td>\n",
              "      <td>109C.TA_20061127104640_EV</td>\n",
              "      <td>1</td>\n",
              "    </tr>\n",
              "  </tbody>\n",
              "</table>\n",
              "</div>"
            ],
            "text/plain": [
              "  network_code receiver_code  ...                 trace_name  Class\n",
              "0           TA          109C  ...  109C.TA_20060723155859_EV      1\n",
              "1           TA          109C  ...  109C.TA_20061103155652_EV      1\n",
              "2           TA          109C  ...  109C.TA_20061103161223_EV      1\n",
              "3           TA          109C  ...  109C.TA_20061114133221_EV      1\n",
              "4           TA          109C  ...  109C.TA_20061127104640_EV      1\n",
              "\n",
              "[5 rows x 36 columns]"
            ]
          },
          "metadata": {},
          "execution_count": 30
        }
      ]
    },
    {
      "cell_type": "markdown",
      "metadata": {
        "id": "yjU81xURxiYI"
      },
      "source": [
        "**Dropping less important columns**"
      ]
    },
    {
      "cell_type": "code",
      "metadata": {
        "id": "xJGVG4hndTkg"
      },
      "source": [
        "data=data.drop(['network_code','receiver_code','snr_db','trace_start_time','source_origin_time','receiver_type','p_status','s_status','source_depth_uncertainty_km','source_magnitude_author','source_mechanism_strike_dip_rake','trace_category','trace_name','source_magnitude_type','source_id'],axis=1)"
      ],
      "execution_count": null,
      "outputs": []
    },
    {
      "cell_type": "markdown",
      "metadata": {
        "id": "g5l-dxE2z_d1"
      },
      "source": [
        "**Droping the columns having NaN**"
      ]
    },
    {
      "cell_type": "code",
      "metadata": {
        "id": "If4Ft5gtxl7N"
      },
      "source": [
        "data=data.drop(['source_origin_uncertainty_sec','source_horizontal_uncertainty_km'],axis=1)\n",
        "data=data.drop(['source_error_sec','source_gap_deg'],axis=1)"
      ],
      "execution_count": null,
      "outputs": []
    },
    {
      "cell_type": "code",
      "metadata": {
        "colab": {
          "base_uri": "https://localhost:8080/"
        },
        "id": "PYBKiWkj1oAQ",
        "outputId": "8acef603-c319-429e-8aa7-f06a82f9d4ee"
      },
      "source": [
        "data.columns"
      ],
      "execution_count": null,
      "outputs": [
        {
          "output_type": "execute_result",
          "data": {
            "text/plain": [
              "Index(['receiver_latitude', 'receiver_longitude', 'receiver_elevation_m',\n",
              "       'p_arrival_sample', 'p_weight', 'p_travel_sec', 's_arrival_sample',\n",
              "       's_weight', 'source_latitude', 'source_longitude', 'source_depth_km',\n",
              "       'source_magnitude', 'source_distance_deg', 'source_distance_km',\n",
              "       'back_azimuth_deg', 'coda_end_sample', 'Class'],\n",
              "      dtype='object')"
            ]
          },
          "metadata": {},
          "execution_count": 33
        }
      ]
    },
    {
      "cell_type": "code",
      "metadata": {
        "id": "yAhqlBTV02Ey"
      },
      "source": [
        "data=data.drop(['p_arrival_sample','p_weight','p_travel_sec','s_arrival_sample','s_weight','source_distance_deg','back_azimuth_deg','coda_end_sample'],axis=1)"
      ],
      "execution_count": null,
      "outputs": []
    },
    {
      "cell_type": "code",
      "metadata": {
        "colab": {
          "base_uri": "https://localhost:8080/"
        },
        "id": "zrlzvH_O2Hfj",
        "outputId": "82807d45-a3bb-49fb-e458-c41309bf77b3"
      },
      "source": [
        "data.columns"
      ],
      "execution_count": null,
      "outputs": [
        {
          "output_type": "execute_result",
          "data": {
            "text/plain": [
              "Index(['receiver_latitude', 'receiver_longitude', 'receiver_elevation_m',\n",
              "       'source_latitude', 'source_longitude', 'source_depth_km',\n",
              "       'source_magnitude', 'source_distance_km', 'Class'],\n",
              "      dtype='object')"
            ]
          },
          "metadata": {},
          "execution_count": 35
        }
      ]
    },
    {
      "cell_type": "markdown",
      "metadata": {
        "id": "JJWS0O2Ba1gx"
      },
      "source": [
        "Checking the correlation of features with Magnitude\n"
      ]
    },
    {
      "cell_type": "markdown",
      "metadata": {
        "id": "MrYzN6tbjUYA"
      },
      "source": [
        ""
      ]
    },
    {
      "cell_type": "markdown",
      "metadata": {
        "id": "BMZRu-ep2Ppa"
      },
      "source": [
        "**Checking the correlation between the features:**"
      ]
    },
    {
      "cell_type": "code",
      "metadata": {
        "colab": {
          "base_uri": "https://localhost:8080/",
          "height": 383
        },
        "id": "Yn7W3f1elhOt",
        "outputId": "1c6b1228-9672-4d4a-f47a-331f22eee490"
      },
      "source": [
        "import seaborn as sns\n",
        "corr = data.corr()\n",
        "sns.heatmap(corr)\n"
      ],
      "execution_count": null,
      "outputs": [
        {
          "output_type": "execute_result",
          "data": {
            "text/plain": [
              "<matplotlib.axes._subplots.AxesSubplot at 0x7f1c1d2ab950>"
            ]
          },
          "metadata": {},
          "execution_count": 36
        },
        {
          "output_type": "display_data",
          "data": {
            "image/png": "[encoded data removed]",
            "text/plain": [
              "<Figure size 432x288 with 2 Axes>"
            ]
          },
          "metadata": {
            "needs_background": "light"
          }
        }
      ]
    },
    {
      "cell_type": "markdown",
      "metadata": {
        "id": "2T3uPFBJ2Y-1"
      },
      "source": [
        "**Visualization of the data **/ takes lot of time: dont run"
      ]
    },
    {
      "cell_type": "code",
      "metadata": {
        "id": "banyFpafsgd3"
      },
      "source": [
        "# Visualize data with Seaborn\n",
        "# g=sns.pairplot(data, hue=\"Class\", height= 2.5)"
      ],
      "execution_count": null,
      "outputs": []
    },
    {
      "cell_type": "markdown",
      "metadata": {
        "id": "qV98BBS_2x_2"
      },
      "source": [
        "**Dividing features into lables and features:**"
      ]
    },
    {
      "cell_type": "code",
      "metadata": {
        "colab": {
          "base_uri": "https://localhost:8080/"
        },
        "id": "-pVDEdRGx2hL",
        "outputId": "87d8338b-cea7-4b20-e91a-affc3ff7504d"
      },
      "source": [
        "cols = data.columns\n",
        "features = cols[0:8]\n",
        "labels = cols[8]\n",
        "print(features)\n",
        "print(labels)"
      ],
      "execution_count": null,
      "outputs": [
        {
          "output_type": "stream",
          "name": "stdout",
          "text": [
            "Index(['receiver_latitude', 'receiver_longitude', 'receiver_elevation_m',\n",
            "       'source_latitude', 'source_longitude', 'source_depth_km',\n",
            "       'source_magnitude', 'source_distance_km'],\n",
            "      dtype='object')\n",
            "Class\n"
          ]
        }
      ]
    },
    {
      "cell_type": "markdown",
      "metadata": {
        "id": "OabnlRE5yVIa"
      },
      "source": [
        "This features every column except class, lables=class"
      ]
    },
    {
      "cell_type": "markdown",
      "metadata": {
        "id": "yOut26GiXCee"
      },
      "source": [
        "Normalisation of the data is required to bring all the features into a range.Normalization is not required for every dataset, you have to sift through it and make sure if your data requires it and only then continue to incorporate this step in your procedure. Also, you should apply Normalization if you are not very sure if the data distribution is Gaussian/ Normal/ bell-curve in nature. Normalization will help in reducing the impact of non-gaussian attributes on your model. \n",
        "ref:https://towardsdatascience.com/clearly-explained-what-why-and-how-of-feature-scaling-normalization-standardization-e9207042d971"
      ]
    },
    {
      "cell_type": "markdown",
      "metadata": {
        "id": "Hsjhqhk6EYXA"
      },
      "source": [
        "**Scaling:**"
      ]
    },
    {
      "cell_type": "code",
      "metadata": {
        "colab": {
          "base_uri": "https://localhost:8080/"
        },
        "id": "XxUkwlWQyi1Q",
        "outputId": "1ef7b08d-9dbf-400c-ed81-84148102c298"
      },
      "source": [
        "#Well conditioned data will have zero mean and equal variance\n",
        "#We get this automattically when we calculate the Z Scores for the data\n",
        "\n",
        "data_norm = pd.DataFrame(data)\n",
        "\n",
        "for feature in features:\n",
        "    data[feature] = (data[feature] - data[feature].mean())/data[feature].std()\n",
        "\n",
        "#Show that should now have zero mean\n",
        "print(\"Averages\")\n",
        "print(data.mean())\n",
        "\n",
        "print(\"\\n Deviations\")\n",
        "#Show that we have equal variance\n",
        "print(pow(data.std(),2))"
      ],
      "execution_count": null,
      "outputs": [
        {
          "output_type": "stream",
          "name": "stdout",
          "text": [
            "Averages\n",
            "receiver_latitude      -9.116235e-12\n",
            "receiver_longitude      1.841306e-12\n",
            "receiver_elevation_m    1.766754e-13\n",
            "source_latitude        -1.272591e-13\n",
            "source_longitude       -6.374304e-14\n",
            "source_depth_km        -1.589547e-13\n",
            "source_magnitude       -9.559065e-13\n",
            "source_distance_km      3.686157e-14\n",
            "Class                   1.836218e-01\n",
            "dtype: float64\n",
            "\n",
            " Deviations\n",
            "receiver_latitude       1.000000\n",
            "receiver_longitude      1.000000\n",
            "receiver_elevation_m    1.000000\n",
            "source_latitude         1.000000\n",
            "source_longitude        1.000000\n",
            "source_depth_km         1.000000\n",
            "source_magnitude        1.000000\n",
            "source_distance_km      1.000000\n",
            "Class                   0.163401\n",
            "dtype: float64\n"
          ]
        }
      ]
    },
    {
      "cell_type": "markdown",
      "metadata": {
        "id": "tZ-EYP_x3Dff"
      },
      "source": [
        "**Shuffling :**"
      ]
    },
    {
      "cell_type": "code",
      "metadata": {
        "id": "8TQP8znizQAH"
      },
      "source": [
        "#Shuffle The data\n",
        "indices = data_norm.index.tolist()\n",
        "indices = np.array(indices)\n",
        "np.random.shuffle(indices)\n",
        "X = data_norm.reindex(indices)[features]\n",
        "y = data_norm.reindex(indices)[labels]"
      ],
      "execution_count": null,
      "outputs": []
    },
    {
      "cell_type": "code",
      "metadata": {
        "id": "8juDF6GAupsX"
      },
      "source": [
        "X = X.fillna(X.mean())   "
      ],
      "execution_count": null,
      "outputs": []
    },
    {
      "cell_type": "markdown",
      "metadata": {
        "id": "0IEzB5owyCzp"
      },
      "source": [
        "checking for nan values"
      ]
    },
    {
      "cell_type": "code",
      "metadata": {
        "colab": {
          "base_uri": "https://localhost:8080/"
        },
        "id": "vrCZTWtWvXNX",
        "outputId": "ff533665-aee8-40fe-f41c-e1d9f049c971"
      },
      "source": [
        "X.isna().sum() "
      ],
      "execution_count": null,
      "outputs": [
        {
          "output_type": "execute_result",
          "data": {
            "text/plain": [
              "receiver_latitude       0\n",
              "receiver_longitude      0\n",
              "receiver_elevation_m    0\n",
              "source_latitude         0\n",
              "source_longitude        0\n",
              "source_depth_km         0\n",
              "source_magnitude        0\n",
              "source_distance_km      0\n",
              "dtype: int64"
            ]
          },
          "metadata": {},
          "execution_count": 41
        }
      ]
    },
    {
      "cell_type": "code",
      "metadata": {
        "colab": {
          "base_uri": "https://localhost:8080/"
        },
        "id": "dIoyoIwHoi3c",
        "outputId": "424d5b53-bd8f-439e-91d2-1082cd975405"
      },
      "source": [
        "data.shape"
      ],
      "execution_count": null,
      "outputs": [
        {
          "output_type": "execute_result",
          "data": {
            "text/plain": [
              "(1058954, 9)"
            ]
          },
          "metadata": {},
          "execution_count": 42
        }
      ]
    },
    {
      "cell_type": "markdown",
      "metadata": {
        "id": "tXYSwRQ13Vvu"
      },
      "source": [
        "**Splitting the data into train validation and test in the ratio 70:20:10**"
      ]
    },
    {
      "cell_type": "code",
      "metadata": {
        "id": "bgprIXjrX83I"
      },
      "source": [
        "# Generate Training and Validation Sets\n",
        "X_train, X_validation, y_train, y_validation = train_test_split(X,y, test_size=.3)\n",
        "# Generate Validation and the test set\n",
        "X_validation, X_test, y_validation, y_test = train_test_split(X_validation,y_validation, test_size=.33)\n",
        "\n",
        "#output_class=data['Class']\n",
        "#output_source_magnitude=data['source_magnitude']\n",
        "#data=data.drop(['source_magnitude'],axis=1)\n",
        "\n",
        "train_magnitude=X_train['source_magnitude']\n",
        "validation_magnitude=X_validation['source_magnitude']\n",
        "test_magnitude=X_test['source_magnitude']\n",
        "\n",
        "X_train=X_train.drop(['source_magnitude'],axis=1)\n",
        "X_validation=X_validation.drop(['source_magnitude'],axis=1)\n",
        "X_test=X_test.drop(['source_magnitude'],axis=1)"
      ],
      "execution_count": null,
      "outputs": []
    },
    {
      "cell_type": "code",
      "metadata": {
        "colab": {
          "base_uri": "https://localhost:8080/"
        },
        "id": "FG8NMfndbXDG",
        "outputId": "3ae100d6-5553-4516-a417-9ff39fc254df"
      },
      "source": [
        "print(X_train.shape, y_train.shape)\n",
        "print(X_validation.shape, y_validation.shape)\n",
        "print(X_test.shape, y_test.shape) "
      ],
      "execution_count": null,
      "outputs": [
        {
          "output_type": "stream",
          "name": "stdout",
          "text": [
            "(741267, 7) (741267,)\n",
            "(212850, 7) (212850,)\n",
            "(104837, 7) (104837,)\n"
          ]
        }
      ]
    },
    {
      "cell_type": "code",
      "metadata": {
        "id": "fOdsjLAte7W2",
        "colab": {
          "base_uri": "https://localhost:8080/"
        },
        "outputId": "8f6693cb-8ab7-4fd1-fdd3-9cc019bfabb8"
      },
      "source": [
        "import tensorflow.compat.v1 as tf\n",
        "tf.disable_v2_behavior()"
      ],
      "execution_count": null,
      "outputs": [
        {
          "output_type": "stream",
          "name": "stdout",
          "text": [
            "WARNING:tensorflow:From /usr/local/lib/python3.7/dist-packages/tensorflow/python/compat/v2_compat.py:111: disable_resource_variables (from tensorflow.python.ops.variable_scope) is deprecated and will be removed in a future version.\n",
            "Instructions for updating:\n",
            "non-resource variables are not supported in the long term\n"
          ]
        }
      ]
    },
    {
      "cell_type": "code",
      "metadata": {
        "id": "GTxD043gofN5"
      },
      "source": [
        "from tensorflow import keras\n",
        "from keras.models import Sequential\n",
        "from keras.layers import Dense\n",
        "from keras.metrics import accuracy\n",
        "from keras.metrics import RootMeanSquaredError\n",
        "from keras.callbacks import ModelCheckpoint, EarlyStopping"
      ],
      "execution_count": null,
      "outputs": []
    },
    {
      "cell_type": "markdown",
      "metadata": {
        "id": "n_ZMWK6Y3aiE"
      },
      "source": [
        "**Neural Network Basic model:**"
      ]
    },
    {
      "cell_type": "code",
      "metadata": {
        "id": "8qxcvuLfoNGp"
      },
      "source": [
        "def model(optimizer, neurons, activation):\n",
        "    model = Sequential()\n",
        "    #input to the hidden layer\n",
        "    model.add(Dense(neurons, activation=activation, input_shape=(7,)))\n",
        "    #hidden to output layer\n",
        "    model.add(Dense(1, activation='sigmoid'))\n",
        "    model.compile(loss='squared_hinge', metrics=['accuracy'], optimizer=optimizer)\n",
        "    return model"
      ],
      "execution_count": null,
      "outputs": []
    },
    {
      "cell_type": "markdown",
      "metadata": {
        "id": "XV9BHEUps1Yq"
      },
      "source": [
        "Loss Functions:\n",
        "Binary cross entropy, categorical cross entropy , sqared hinge loss are tried . Squared hinge loss is giving the optimum results.\n",
        "\n",
        "Activation Functions;\n",
        "Output layer checked with Relu, Softmax and sigmoid. Soft max is working the worst where as the sigmoid activation function is working the best."
      ]
    },
    {
      "cell_type": "code",
      "metadata": {
        "colab": {
          "base_uri": "https://localhost:8080/"
        },
        "id": "SeaUDIML2KzB",
        "outputId": "3418a440-1ca1-4bfa-e9a1-de47c709c8b4"
      },
      "source": [
        "y_validation.shape\n",
        "print(y_validation.unique())"
      ],
      "execution_count": null,
      "outputs": [
        {
          "output_type": "stream",
          "name": "stdout",
          "text": [
            "[0 1 2]\n"
          ]
        }
      ]
    },
    {
      "cell_type": "code",
      "metadata": {
        "id": "mlXhJrfuoVr8",
        "colab": {
          "base_uri": "https://localhost:8080/"
        },
        "outputId": "d4aef6bc-c519-49c6-ef52-4a289302d775"
      },
      "source": [
        "m = model(keras.optimizers.SGD(learning_rate=0.01, momentum=0.9), 11, 'relu' )\n",
        "#m = model(\"SGD\", 11, 'sigmoid' )\n",
        "m.summary()"
      ],
      "execution_count": null,
      "outputs": [
        {
          "output_type": "stream",
          "name": "stdout",
          "text": [
            "Model: \"sequential_1\"\n",
            "_________________________________________________________________\n",
            " Layer (type)                Output Shape              Param #   \n",
            "=================================================================\n",
            " dense_2 (Dense)             (None, 11)                88        \n",
            "                                                                 \n",
            " dense_3 (Dense)             (None, 1)                 12        \n",
            "                                                                 \n",
            "=================================================================\n",
            "Total params: 100\n",
            "Trainable params: 100\n",
            "Non-trainable params: 0\n",
            "_________________________________________________________________\n"
          ]
        }
      ]
    },
    {
      "cell_type": "markdown",
      "metadata": {
        "id": "qEbCap3j4Jtm"
      },
      "source": [
        "**Fitting the model:**"
      ]
    },
    {
      "cell_type": "code",
      "metadata": {
        "colab": {
          "base_uri": "https://localhost:8080/"
        },
        "id": "-nNA4iRjs-b2",
        "outputId": "0164a077-1d55-48fc-c33c-d65d2bbf25a7"
      },
      "source": [
        "m.fit(X_train, y_train, epochs=4, batch_size=32, validation_data=(X_validation, y_validation))"
      ],
      "execution_count": null,
      "outputs": [
        {
          "output_type": "stream",
          "name": "stdout",
          "text": [
            "Train on 741267 samples, validate on 212850 samples\n",
            "Epoch 1/4\n",
            "739616/741267 [============================>.] - ETA: 0s - loss: 0.9195 - acc: 0.9028"
          ]
        },
        {
          "output_type": "stream",
          "name": "stderr",
          "text": [
            "/usr/local/lib/python3.7/dist-packages/keras/engine/training_v1.py:2057: UserWarning: `Model.state_updates` will be removed in a future version. This property should not be used in TensorFlow 2.0, as `updates` are applied automatically.\n",
            "  updates = self.state_updates\n"
          ]
        },
        {
          "output_type": "stream",
          "name": "stdout",
          "text": [
            "741267/741267 [==============================] - 20s 27us/sample - loss: 0.9194 - acc: 0.9028 - val_loss: 0.9136 - val_acc: 0.9075\n",
            "Epoch 2/4\n",
            "741267/741267 [==============================] - 20s 27us/sample - loss: 0.9143 - acc: 0.9091 - val_loss: 0.9127 - val_acc: 0.9091\n",
            "Epoch 3/4\n",
            "741267/741267 [==============================] - 20s 27us/sample - loss: 0.9139 - acc: 0.9095 - val_loss: 0.9122 - val_acc: 0.9091\n",
            "Epoch 4/4\n",
            "741267/741267 [==============================] - 20s 26us/sample - loss: 0.9134 - acc: 0.9103 - val_loss: 0.9120 - val_acc: 0.9108\n"
          ]
        },
        {
          "output_type": "execute_result",
          "data": {
            "text/plain": [
              "<keras.callbacks.History at 0x7f1c196b9410>"
            ]
          },
          "metadata": {},
          "execution_count": 52
        }
      ]
    },
    {
      "cell_type": "markdown",
      "metadata": {
        "id": "1hs0UWQ0fxRy"
      },
      "source": [
        "**Tuning hyper parameters:**\n",
        "**1) tune number of neurons.** \n",
        "\n",
        "1.   List item\n",
        "2.   List item\n",
        "\n"
      ]
    },
    {
      "cell_type": "code",
      "metadata": {
        "colab": {
          "base_uri": "https://localhost:8080/"
        },
        "id": "L61tay3oHB5u",
        "outputId": "9002b49c-44b6-48e6-e3a6-dc8ebe0337fe"
      },
      "source": [
        "for i in range(8,13):\n",
        "  m = model(keras.optimizers.SGD(learning_rate=0.01, momentum=0.9), i, 'relu' )\n",
        "  m.fit(X_train, y_train, epochs=4, batch_size=32, verbose=0, validation_data=(X_validation, y_validation))\n",
        "  [test_loss, test_acc] = m.evaluate(X_test, y_test)\n",
        "  print(\"Evaluation result on Test Data : Loss = {}, accuracy = {}\".format(test_loss, test_acc))"
      ],
      "execution_count": null,
      "outputs": [
        {
          "output_type": "stream",
          "name": "stderr",
          "text": [
            "/usr/local/lib/python3.7/dist-packages/keras/engine/training_v1.py:2057: UserWarning: `Model.state_updates` will be removed in a future version. This property should not be used in TensorFlow 2.0, as `updates` are applied automatically.\n",
            "  updates = self.state_updates\n"
          ]
        },
        {
          "output_type": "stream",
          "name": "stdout",
          "text": [
            "Evaluation result on Test Data : Loss = 0.9122469998557198, accuracy = 0.9103561043739319\n",
            "Evaluation result on Test Data : Loss = 0.9133315468461692, accuracy = 0.9140189290046692\n",
            "Evaluation result on Test Data : Loss = 0.9119260019894766, accuracy = 0.9104991555213928\n",
            "Evaluation result on Test Data : Loss = 0.9118249063796016, accuracy = 0.9120539426803589\n",
            "Evaluation result on Test Data : Loss = 0.9109725676790296, accuracy = 0.9105754494667053\n"
          ]
        }
      ]
    },
    {
      "cell_type": "code",
      "metadata": {
        "colab": {
          "base_uri": "https://localhost:8080/"
        },
        "id": "XsChkKkKTnC0",
        "outputId": "ec05a0b7-8a08-4f17-a438-435d2bcc9731"
      },
      "source": [
        "print(m.history.params)"
      ],
      "execution_count": null,
      "outputs": [
        {
          "output_type": "stream",
          "name": "stdout",
          "text": [
            "{'batch_size': 32, 'epochs': 4, 'steps': None, 'samples': 741267, 'verbose': 1, 'do_validation': True, 'metrics': ['loss', 'acc', 'val_loss', 'val_acc']}\n"
          ]
        }
      ]
    },
    {
      "cell_type": "markdown",
      "metadata": {
        "id": "5f6Czig_IdUr"
      },
      "source": [
        "Following section contains the optimizer function adam  with the different hidden layers from 4 to 13."
      ]
    },
    {
      "cell_type": "code",
      "metadata": {
        "colab": {
          "base_uri": "https://localhost:8080/"
        },
        "id": "2lzfXnHmIlRh",
        "outputId": "021b8b6e-fcd4-4183-93fb-1b70b3f8276f"
      },
      "source": [
        "neuron_acc = []\n",
        "neuron_acc_validation = []\n",
        "neuron_acc_test =[]\n",
        "optimizers=[\"SGD\",\"Adam\",\"Adagrad\"]\n",
        "for i in range(8,16):\n",
        "    m_= model(\"Adam\",i,'relu')\n",
        "    m_.fit(X_train, y_train, epochs=6, batch_size=32, verbose=0, validation_data=(X_validation, y_validation))\n",
        "\n",
        "    m_.history.history['acc'].sort() \n",
        "    m_.history.history['val_acc'].sort() \n",
        "        \n",
        "    best_acc = round(m_.history.history['acc'][-1],4)\n",
        "    best_acc_val = round(m_.history.history['val_acc'][-1],4)\n",
        "\n",
        "    neuron_acc.append(best_acc)\n",
        "    neuron_acc_validation.append(best_acc_val)\n",
        "\n",
        "    [test_loss, test_acc] = m_.evaluate(X_test, y_test)\n",
        "    print(\"for  \",i,\"  Evaluation result on Test Data : Loss = {}, accuracy = {}\".format(test_loss, test_acc))\n",
        "\n",
        "    neuron_acc_test.append(test_acc)\n",
        "    "
      ],
      "execution_count": null,
      "outputs": [
        {
          "output_type": "stream",
          "name": "stderr",
          "text": [
            "/usr/local/lib/python3.7/dist-packages/keras/engine/training_v1.py:2057: UserWarning: `Model.state_updates` will be removed in a future version. This property should not be used in TensorFlow 2.0, as `updates` are applied automatically.\n",
            "  updates = self.state_updates\n"
          ]
        },
        {
          "output_type": "stream",
          "name": "stdout",
          "text": [
            "for   8   Evaluation result on Test Data : Loss = 0.9149289118122108, accuracy = 0.9102225303649902\n",
            "for   9   Evaluation result on Test Data : Loss = 0.9099761023616438, accuracy = 0.9135515093803406\n",
            "for   10   Evaluation result on Test Data : Loss = 0.9101151721755891, accuracy = 0.9123782515525818\n",
            "for   11   Evaluation result on Test Data : Loss = 0.9120035006528144, accuracy = 0.9138758182525635\n",
            "for   12   Evaluation result on Test Data : Loss = 0.9107646589617482, accuracy = 0.9111000895500183\n",
            "for   13   Evaluation result on Test Data : Loss = 0.909475409819824, accuracy = 0.9126167297363281\n",
            "for   14   Evaluation result on Test Data : Loss = 0.9123724852198017, accuracy = 0.9102797508239746\n",
            "for   15   Evaluation result on Test Data : Loss = 0.9105274142923078, accuracy = 0.9119776487350464\n"
          ]
        }
      ]
    },
    {
      "cell_type": "code",
      "metadata": {
        "colab": {
          "base_uri": "https://localhost:8080/",
          "height": 850
        },
        "id": "wHgLG1AQJ5o5",
        "outputId": "3bbb61cc-bd36-4be2-ab00-63597aa024d1"
      },
      "source": [
        "neurons=[8,9,10,11,12,13,14,15]\n",
        "plt.plot(neurons, neuron_acc)\n",
        "plt.xlabel('Neurons')\n",
        "plt.ylabel('Training Accuracy')\n",
        "plt.title('Simple Model with variable Neurons and Epoch')\n",
        "plt.show()\n",
        "\n",
        "plt.plot(neurons, neuron_acc_validation)\n",
        "plt.xlabel('Neurons')\n",
        "plt.ylabel('Validation Accuracy')\n",
        "plt.title('Simple Model with variable Neurons and Epoch')\n",
        "plt.show()\n",
        "\n",
        "plt.plot(neurons, neuron_acc_test)\n",
        "plt.xlabel('Neurons')\n",
        "plt.ylabel('test Accuracy')\n",
        "plt.title('Simple Model with variable Neurons and Epoch')\n",
        "plt.show()"
      ],
      "execution_count": null,
      "outputs": [
        {
          "output_type": "display_data",
          "data": {
            "image/png": "[encoded data removed]",
            "text/plain": [
              "<Figure size 432x288 with 1 Axes>"
            ]
          },
          "metadata": {
            "needs_background": "light"
          }
        },
        {
          "output_type": "display_data",
          "data": {
            "image/png": "[encoded data removed]",
            "text/plain": [
              "<Figure size 432x288 with 1 Axes>"
            ]
          },
          "metadata": {
            "needs_background": "light"
          }
        },
        {
          "output_type": "display_data",
          "data": {
            "image/png": "[encoded data removed]",
            "text/plain": [
              "<Figure size 432x288 with 1 Axes>"
            ]
          },
          "metadata": {
            "needs_background": "light"
          }
        }
      ]
    },
    {
      "cell_type": "markdown",
      "metadata": {
        "id": "iDvHgQi4dDxb"
      },
      "source": [
        "Adagrad optimizer with all different neurons"
      ]
    },
    {
      "cell_type": "code",
      "metadata": {
        "colab": {
          "base_uri": "https://localhost:8080/"
        },
        "id": "-qxrCZ9Nc1o-",
        "outputId": "5e3b012d-dc8f-457c-d622-2630a4cad9be"
      },
      "source": [
        "neuron_loss = []\n",
        "neuron_loss_validation = []\n",
        "neuron_loss_test =[]\n",
        "optimizers=[\"SGD\",\"Adam\",\"Adagrad\"]\n",
        "for i in range(8,16):\n",
        "    m_= model(\"Adagrad\",i,'relu')\n",
        "    m_.fit(X_train, y_train, epochs=4, batch_size=32, verbose=0, validation_data=(X_validation, y_validation))\n",
        "    m_.history.history['acc'].sort() \n",
        "    m_.history.history['val_acc'].sort() \n",
        "    #m_.history.history['test_acc'].sort()\n",
        "    best_acc = round(m_.history.history['acc'][-1],2)\n",
        "    best_acc_val = round(m_.history.history['val_acc'][-1],2)\n",
        "    m_.history.history['acc'].sort() \n",
        "    m_.history.history['val_acc'].sort()\n",
        "    \n",
        "    \n",
        "    [test_loss, test_acc] = m_.evaluate(X_test, y_test)\n",
        "    print(\"for  \",i,\"  Evaluation result on Test Data : Loss = {}, accuracy = {}\".format(test_loss, test_acc))\n",
        "  \n",
        "    \n",
        "    "
      ],
      "execution_count": null,
      "outputs": [
        {
          "output_type": "stream",
          "name": "stdout",
          "text": [
            "WARNING:tensorflow:From /usr/local/lib/python3.7/dist-packages/keras/optimizer_v2/adagrad.py:84: calling Constant.__init__ (from tensorflow.python.ops.init_ops) with dtype is deprecated and will be removed in a future version.\n",
            "Instructions for updating:\n",
            "Call initializer instance with the dtype argument instead of passing it to the constructor\n"
          ]
        },
        {
          "output_type": "stream",
          "name": "stderr",
          "text": [
            "/usr/local/lib/python3.7/dist-packages/keras/engine/training_v1.py:2057: UserWarning: `Model.state_updates` will be removed in a future version. This property should not be used in TensorFlow 2.0, as `updates` are applied automatically.\n",
            "  updates = self.state_updates\n"
          ]
        },
        {
          "output_type": "stream",
          "name": "stdout",
          "text": [
            "for   8   Evaluation result on Test Data : Loss = 1.0618966582534695, accuracy = 0.8712668418884277\n",
            "for   9   Evaluation result on Test Data : Loss = 0.9781142451866242, accuracy = 0.8557570576667786\n",
            "for   10   Evaluation result on Test Data : Loss = 0.9862771137329462, accuracy = 0.8473725914955139\n",
            "for   11   Evaluation result on Test Data : Loss = 0.9839198936194795, accuracy = 0.8727166652679443\n",
            "for   12   Evaluation result on Test Data : Loss = 0.9673083767486625, accuracy = 0.8804906606674194\n",
            "for   13   Evaluation result on Test Data : Loss = 0.9782236128457326, accuracy = 0.870971143245697\n",
            "for   14   Evaluation result on Test Data : Loss = 0.9697484878545515, accuracy = 0.859925389289856\n",
            "for   15   Evaluation result on Test Data : Loss = 0.9785365626118288, accuracy = 0.876274585723877\n"
          ]
        }
      ]
    },
    {
      "cell_type": "code",
      "metadata": {
        "id": "2ftGVBTUZwT7"
      },
      "source": [
        "neurons=[8,9,10,11,12,13,14,15,16,17]\n",
        "plt.plot(neurons, neuron_loss)\n",
        "plt.xlabel('Neurons')\n",
        "plt.ylabel('Training Accuracy')\n",
        "plt.title('Simple Model with variable Neurons and Epoch')\n",
        "plt.show()\n",
        "\n",
        "plt.plot(neurons, neuron_loss_validation)\n",
        "plt.xlabel('Neurons')\n",
        "plt.ylabel('Validation Accuracy')\n",
        "plt.title('Simple Model with variable Neurons and Epoch')\n",
        "plt.show()\n",
        "\n",
        "plt.plot(neurons, neuron_loss_test)\n",
        "plt.xlabel('Neurons')\n",
        "plt.ylabel('test Accuracy')\n",
        "plt.title('Simple Model with variable Neurons and Epoch')\n",
        "plt.show()"
      ],
      "execution_count": null,
      "outputs": []
    },
    {
      "cell_type": "code",
      "metadata": {
        "id": "IGFmpGpXDxZ3"
      },
      "source": [
        "We consider 16 nuerons as optimal solution.\n",
        "\n",
        "to be done.\n",
        "Change the number of classes into three \n",
        "1.check with different optimisers\n",
        "2.Check with different activation functions\n",
        "\n"
      ],
      "execution_count": null,
      "outputs": []
    },
    {
      "cell_type": "markdown",
      "metadata": {
        "id": "msI51PzY1GkB"
      },
      "source": [
        "**Early stopping is implemented and the activation for the output neuron is sigmoid**\n",
        "\n"
      ]
    },
    {
      "cell_type": "code",
      "metadata": {
        "id": "AL51Yl1SD8AP",
        "colab": {
          "base_uri": "https://localhost:8080/"
        },
        "outputId": "2024b82a-f871-41d7-c0d2-5c45a5810720"
      },
      "source": [
        "from keras.callbacks import ModelCheckpoint, EarlyStopping\n",
        "def model_early(optimizer, neurons, activation):\n",
        "    model = Sequential()\n",
        "    # simple early stopping\n",
        "    es = EarlyStopping(monitor='val_loss', mode='min', verbose=1)\n",
        "    #input to the hidden layer\n",
        "    model.add(Dense(neurons, activation=activation, input_shape=(7,)))\n",
        "    # model.add(Dense(neurons, activation='sigmoid'))\n",
        "    model.add(Dense(1, activation='sigmoid'))\n",
        "    model.compile(loss='squared_hinge', metrics=['accuracy'], optimizer=optimizer)\n",
        "    return model\n",
        "\n",
        "final_training_accuracy=[]\n",
        "final_training_loss=[]\n",
        "final_validation_accuracy=[]\n",
        "final_validation_loss=[]\n",
        "final_test_accuracy=[]\n",
        "final_test_loss=[]\n",
        "for i in [5,8,10,12]:\n",
        "  temp_training_loss=[]\n",
        "  temp_validation_loss=[]\n",
        "  temp_training_accuracy=[]\n",
        "  temp_validation_accuracy=[]\n",
        "  temp_test_accuracy=[]\n",
        "  temp_test_loss=[]\n",
        "  es = EarlyStopping(monitor='val_loss', mode='min', verbose=1)\n",
        "  for j in ['sigmoid','relu','tanh','softmax']:\n",
        "    \n",
        "    m_grid = model_early(keras.optimizers.SGD(learning_rate=0.01, momentum=0.9), i, j)\n",
        "    m_grid.fit(X_train, y_train, epochs=4, batch_size=32, verbose=0, validation_data=(X_validation, y_validation),callbacks=[es])\n",
        "    [test_loss, test_acc] = m_grid.evaluate(X_test, y_test)\n",
        "\n",
        "    temp_training_loss.append(m_grid.history.history['loss'][-1])\n",
        "    temp_validation_loss.append(m_grid.history.history['val_loss'][-1])\n",
        "    \n",
        "    temp_training_accuracy.append(m_grid.history.history['acc'][-1])\n",
        "    temp_validation_accuracy.append(m_grid.history.history['val_acc'][-1])\n",
        "\n",
        "    temp_test_accuracy.append(test_acc)\n",
        "    temp_test_loss.append(test_loss)\n",
        "\n",
        "    print(\"temporary test accuracy for  \",i,\"  and\", j,\"  test loss is  \" ,test_loss,\" Accuracy is \",test_acc)\n",
        "\n",
        "  \n",
        "    \n",
        "  \n",
        "\n"
      ],
      "execution_count": null,
      "outputs": [
        {
          "output_type": "stream",
          "name": "stderr",
          "text": [
            "/usr/local/lib/python3.7/dist-packages/keras/engine/training_v1.py:2057: UserWarning: `Model.state_updates` will be removed in a future version. This property should not be used in TensorFlow 2.0, as `updates` are applied automatically.\n",
            "  updates = self.state_updates\n"
          ]
        },
        {
          "output_type": "stream",
          "name": "stdout",
          "text": [
            "Epoch 00002: early stopping\n",
            "temporary test accuracy for   5   and sigmoid   test loss is   0.9213925781645435  Accuracy is  0.9004073\n",
            "Epoch 00002: early stopping\n",
            "temporary test accuracy for   5   and relu   test loss is   0.9178105579025705  Accuracy is  0.90568215\n",
            "Epoch 00002: early stopping\n",
            "temporary test accuracy for   5   and tanh   test loss is   0.9133120141737584  Accuracy is  0.9107567\n",
            "Epoch 00002: early stopping\n",
            "temporary test accuracy for   5   and softmax   test loss is   0.9196771949136499  Accuracy is  0.9035932\n",
            "Epoch 00002: early stopping\n",
            "temporary test accuracy for   8   and sigmoid   test loss is   0.9212340526445179  Accuracy is  0.90180945\n",
            "Epoch 00002: early stopping\n",
            "temporary test accuracy for   8   and relu   test loss is   0.9162507544274571  Accuracy is  0.9086773\n",
            "Epoch 00002: early stopping\n",
            "temporary test accuracy for   8   and tanh   test loss is   0.9135371835062787  Accuracy is  0.91087115\n",
            "Epoch 00002: early stopping\n",
            "temporary test accuracy for   8   and softmax   test loss is   0.924879084223619  Accuracy is  0.8986999\n",
            "Epoch 00002: early stopping\n",
            "temporary test accuracy for   10   and sigmoid   test loss is   0.9999532172758975  Accuracy is  0.8236024\n",
            "Epoch 00002: early stopping\n",
            "temporary test accuracy for   10   and relu   test loss is   0.9136715093449457  Accuracy is  0.909965\n",
            "Epoch 00002: early stopping\n",
            "temporary test accuracy for   10   and tanh   test loss is   0.9150789271714388  Accuracy is  0.90872496\n",
            "Epoch 00002: early stopping\n",
            "temporary test accuracy for   10   and softmax   test loss is   0.9212777563162845  Accuracy is  0.9042132\n",
            "Epoch 00002: early stopping\n",
            "temporary test accuracy for   12   and sigmoid   test loss is   0.9202772397865457  Accuracy is  0.90285873\n",
            "Epoch 00002: early stopping\n",
            "temporary test accuracy for   12   and relu   test loss is   0.9131336450287961  Accuracy is  0.90906835\n",
            "Epoch 00002: early stopping\n",
            "temporary test accuracy for   12   and tanh   test loss is   0.9134899443876536  Accuracy is  0.9085819\n",
            "Epoch 00002: early stopping\n",
            "temporary test accuracy for   12   and softmax   test loss is   0.9996476319448946  Accuracy is  0.8236024\n"
          ]
        }
      ]
    },
    {
      "cell_type": "markdown",
      "metadata": {
        "id": "vQ-lY5QkfMeW"
      },
      "source": [
        "**early stopping and the output neuron activation function is relu**"
      ]
    },
    {
      "cell_type": "code",
      "metadata": {
        "id": "9NleUcF8eo9d"
      },
      "source": [
        "def model_early(optimizer, neurons, activation):\n",
        "    model = Sequential()\n",
        "    # simple early stopping\n",
        "    es = EarlyStopping(monitor='val_loss', mode='min', verbose=1)\n",
        "    #input to the hidden layer\n",
        "    model.add(Dense(neurons, activation=activation, input_shape=(7,)))\n",
        "    # model.add(Dense(neurons, activation='sigmoid'))\n",
        "    model.add(Dense(1, activation='relu'))\n",
        "    model.compile(loss='squared_hinge', metrics=['accuracy'], optimizer=optimizer)\n",
        "    return model\n",
        "\n",
        "final_training_accuracy=[]\n",
        "final_training_loss=[]\n",
        "final_validation_accuracy=[]\n",
        "final_validation_loss=[]\n",
        "final_test_accuracy=[]\n",
        "final_test_loss=[]\n",
        "for i in [5,8,10,12]:\n",
        "  temp_training_loss=[]\n",
        "  temp_validation_loss=[]\n",
        "  temp_training_accuracy=[]\n",
        "  temp_validation_accuracy=[]\n",
        "  temp_test_accuracy=[]\n",
        "  temp_test_loss=[]\n",
        "  es = EarlyStopping(monitor='val_loss', mode='min', verbose=1)\n",
        "  for j in ['sigmoid','relu','tanh','softmax']:\n",
        "    \n",
        "    m_grid = model_early(keras.optimizers.SGD(learning_rate=0.01, momentum=0.9), i, j)\n",
        "    m_grid.fit(X_train, y_train, epochs=5, batch_size=32, verbose=0, validation_data=(X_validation, y_validation),callbacks=[es])\n",
        "    [test_loss, test_acc] = m_grid.evaluate(X_test, y_test)\n",
        "\n",
        "    temp_training_loss.append(m_grid.history.history['loss'][-1])\n",
        "    temp_validation_loss.append(m_grid.history.history['val_loss'][-1])\n",
        "    \n",
        "    temp_training_accuracy.append(m_grid.history.history['acc'][-1])\n",
        "    temp_validation_accuracy.append(m_grid.history.history['val_acc'][-1])\n",
        "\n",
        "    temp_test_accuracy.append(test_acc)\n",
        "    temp_test_loss.append(test_loss)\n",
        "\n",
        "    print(\"temporary test accuracy for  \",i,\"  and\", j,\"  test loss is  \" ,test_loss,\" Accuracy is \",test_acc)\n",
        "\n",
        "  final_training_loss.append(temp_training_loss[-1])\n",
        "  final_training_accuracy.append(temp_training_accuracy[-1]) \n",
        "  final_validation_accuracy.append(temp_validation_accuracy[-1])\n",
        "  final_validation_loss.append(temp_validation_loss[-1])\n",
        "  final_test_accuracy.append(temp_test_accuracy) \n",
        "  final_test_loss.append(temp_test_loss)  \n",
        "print(final_training_accuracy)\n",
        "# print(final_training_loss)\n",
        "print(final_validation_accuracy)\n",
        "# print(final_validation_loss)\n",
        "print(final_test_accuracy)\n",
        "# print(final_test_loss)"
      ],
      "execution_count": null,
      "outputs": []
    },
    {
      "cell_type": "markdown",
      "metadata": {
        "id": "nA2bDvnBfeLY"
      },
      "source": [
        "**Early stopping and the activation function for output neuron is tanh**\n"
      ]
    },
    {
      "cell_type": "code",
      "metadata": {
        "id": "lY5FBaS2e9hc"
      },
      "source": [
        "from keras.callbacks import ModelCheckpoint, EarlyStopping\n",
        "from tensorflow.keras.layers import Dropout\n",
        "def model_early(optimizer, neurons, activation):\n",
        "    model = Sequential()\n",
        "    # simple early stopping\n",
        "    es = EarlyStopping(monitor='val_loss', mode='min', verbose=1)\n",
        "    #input to the hidden layer\n",
        "    model.add(Dense(neurons, activation=activation, input_shape=(7,)))\n",
        "    # model.add(Dense(neurons, activation='sigmoid'))\n",
        "    model.add(Dense(1, activation='tanh'))\n",
        "    model.compile(loss='squared_hinge', metrics=['accuracy'], optimizer=optimizer)\n",
        "    return model\n",
        "\n",
        "final_training_accuracy=[]\n",
        "final_training_loss=[]\n",
        "final_validation_accuracy=[]\n",
        "final_validation_loss=[]\n",
        "final_test_accuracy=[]\n",
        "final_test_loss=[]\n",
        "for i in [5,8,10,12]:\n",
        "  temp_training_loss=[]\n",
        "  temp_validation_loss=[]\n",
        "  temp_training_accuracy=[]\n",
        "  temp_validation_accuracy=[]\n",
        "  temp_test_accuracy=[]\n",
        "  temp_test_loss=[]\n",
        "  es = EarlyStopping(monitor='val_loss', mode='min', verbose=1)\n",
        "  for j in ['sigmoid','relu','tanh','softmax']:\n",
        "    \n",
        "    m_grid = model_early(keras.optimizers.SGD(learning_rate=0.01, momentum=0.9), i, j)\n",
        "    m_grid.fit(X_train, y_train, epochs=5, batch_size=32, verbose=0, validation_data=(X_validation, y_validation),callbacks=[es])\n",
        "    [test_loss, test_acc] = m_grid.evaluate(X_test, y_test)\n",
        "\n",
        "    temp_training_loss.append(m_grid.history.history['loss'][-1])\n",
        "    temp_validation_loss.append(m_grid.history.history['val_loss'][-1])\n",
        "    \n",
        "    temp_training_accuracy.append(m_grid.history.history['acc'][-1])\n",
        "    temp_validation_accuracy.append(m_grid.history.history['val_acc'][-1])\n",
        "\n",
        "    temp_test_accuracy.append(test_acc)\n",
        "    temp_test_loss.append(test_loss)\n",
        "\n",
        "    print(\"temporary test accuracy for  \",i,\"  and\", j,\"  test loss is  \" ,test_loss,\" Accuracy is \",test_acc)\n",
        "\n",
        "  final_training_loss.append(temp_training_loss[-1])\n",
        "  final_training_accuracy.append(temp_training_accuracy[-1]) \n",
        "  final_validation_accuracy.append(temp_validation_accuracy[-1])\n",
        "  final_validation_loss.append(temp_validation_loss[-1])\n",
        "  final_test_accuracy.append(temp_test_accuracy) \n",
        "  final_test_loss.append(temp_test_loss)  \n",
        "print(final_training_accuracy)\n",
        "# print(final_training_loss)\n",
        "print(final_validation_accuracy)\n",
        "# print(final_validation_loss)\n",
        "print(final_test_accuracy)\n",
        "# print(final_test_loss)"
      ],
      "execution_count": null,
      "outputs": []
    },
    {
      "cell_type": "markdown",
      "metadata": {
        "id": "IIs00hlUO8sB"
      },
      "source": [
        "**Final model with \n",
        " 3 hidden layers and Drop out Regularisation:**(for class prediction)"
      ]
    },
    {
      "cell_type": "code",
      "metadata": {
        "id": "TpWxLW6hNhad"
      },
      "source": [
        "from tensorflow.keras.layers import Dropout\n",
        "def model2(optimizer, neurons, activation):\n",
        "    model = Sequential()\n",
        "    #input to the hidden layer\n",
        "    model.add(Dense(neurons*4, activation=activation, input_shape=(7,)))\n",
        "    model.add(Dropout(0.25))\n",
        "    model.add(Dense(neurons*2, activation='relu'))\n",
        "    # model.add(Dropout(0.25))\n",
        "    model.add(Dense(neurons, activation='tanh'))\n",
        "    model.add(Dense(1, activation='linear'))\n",
        "    model.compile(loss='squared_hinge', metrics=['accuracy'], optimizer=optimizer)\n",
        "    return model"
      ],
      "execution_count": null,
      "outputs": []
    },
    {
      "cell_type": "code",
      "metadata": {
        "id": "3TbYG5vRIA9t",
        "colab": {
          "base_uri": "https://localhost:8080/"
        },
        "outputId": "a8cccf61-64aa-4dcf-9002-e2d74bf183b7"
      },
      "source": [
        "h2 = model2(keras.optimizers.SGD(learning_rate=0.01, momentum=0.9), 128, 'relu' )\n",
        "h2.summary()\n",
        "h2.fit(X_train, y_train, epochs=2, batch_size=32, validation_data=(X_validation, y_validation))\n",
        "# m.fit(X_train, train_magnitude, epochs=50, batch_size=32, validation_data=(X_validation, validation_magnitude))\n",
        "# [test_loss, test_acc] =h2.evaluate(X_test, y_test)\n",
        "# print(\"for    Evaluation result on Test Data : Loss = {}, accuracy = {}\".format(test_loss, test_acc))"
      ],
      "execution_count": null,
      "outputs": [
        {
          "output_type": "stream",
          "name": "stdout",
          "text": [
            "Model: \"sequential_22\"\n",
            "_________________________________________________________________\n",
            " Layer (type)                Output Shape              Param #   \n",
            "=================================================================\n",
            " dense_44 (Dense)            (None, 512)               4096      \n",
            "                                                                 \n",
            " dropout (Dropout)           (None, 512)               0         \n",
            "                                                                 \n",
            " dense_45 (Dense)            (None, 256)               131328    \n",
            "                                                                 \n",
            " dense_46 (Dense)            (None, 128)               32896     \n",
            "                                                                 \n",
            " dense_47 (Dense)            (None, 1)                 129       \n",
            "                                                                 \n",
            "=================================================================\n",
            "Total params: 168,449\n",
            "Trainable params: 168,449\n",
            "Non-trainable params: 0\n",
            "_________________________________________________________________\n",
            "Train on 741267 samples, validate on 212850 samples\n",
            "Epoch 1/2\n",
            "740928/741267 [============================>.] - ETA: 0s - loss: 0.3905 - acc: 0.9073"
          ]
        },
        {
          "output_type": "stream",
          "name": "stderr",
          "text": [
            "/usr/local/lib/python3.7/dist-packages/keras/engine/training_v1.py:2057: UserWarning: `Model.state_updates` will be removed in a future version. This property should not be used in TensorFlow 2.0, as `updates` are applied automatically.\n",
            "  updates = self.state_updates\n"
          ]
        },
        {
          "output_type": "stream",
          "name": "stdout",
          "text": [
            "741267/741267 [==============================] - 109s 147us/sample - loss: 0.3905 - acc: 0.9073 - val_loss: 0.3687 - val_acc: 0.9135\n",
            "Epoch 2/2\n",
            "741267/741267 [==============================] - 108s 146us/sample - loss: 0.3802 - acc: 0.9136 - val_loss: 0.3648 - val_acc: 0.9168\n"
          ]
        },
        {
          "output_type": "execute_result",
          "data": {
            "text/plain": [
              "<keras.callbacks.History at 0x7f33b81b8950>"
            ]
          },
          "metadata": {},
          "execution_count": 39
        }
      ]
    },
    {
      "cell_type": "code",
      "metadata": {
        "colab": {
          "base_uri": "https://localhost:8080/"
        },
        "id": "jqCgCKDK0_y8",
        "outputId": "ddbe5028-0939-4b7d-983d-a30ac4926362"
      },
      "source": [
        "[test_loss, test_acc] =h2.evaluate(X_test, y_test)\n",
        "print(\"for    Evaluation result on Test Data : Loss = {}, accuracy = {}\".format(test_loss, test_acc))"
      ],
      "execution_count": null,
      "outputs": [
        {
          "output_type": "stream",
          "name": "stdout",
          "text": [
            "for    Evaluation result on Test Data : Loss = 0.36011045619208476, accuracy = 0.9161746501922607\n"
          ]
        }
      ]
    },
    {
      "cell_type": "code",
      "metadata": {
        "id": "LkW2O2FVPw_m"
      },
      "source": [
        "from tensorflow.keras.layers import Dropout\n",
        "def model3(optimizer, neurons, activation):\n",
        "    model = Sequential()\n",
        "    #input to the hidden layer\n",
        "    model.add(Dense(neurons*4, activation=activation, input_shape=(7,)))\n",
        "    model.add(Dropout(0.25))\n",
        "    model.add(Dense(neurons*2, activation='relu'))\n",
        "    # model.add(Dropout(0.25))\n",
        "    model.add(Dense(neurons, activation='tanh'))\n",
        "    model.add(Dense(1, activation='linear'))\n",
        "    model.compile(loss='squared_hinge', metrics=[tf.keras.metrics.Precision()], optimizer=optimizer)\n",
        "    return model"
      ],
      "execution_count": null,
      "outputs": []
    },
    {
      "cell_type": "code",
      "metadata": {
        "colab": {
          "base_uri": "https://localhost:8080/"
        },
        "id": "pdrHRgutP21M",
        "outputId": "a2fe076a-3174-4352-f36c-28865eee9c00"
      },
      "source": [
        "h2 = model3(keras.optimizers.SGD(learning_rate=0.01, momentum=0.9), 128, 'relu' )\n",
        "h2.summary()\n",
        "h2.fit(X_train, y_train, epochs=2, batch_size=32, validation_data=(X_validation, y_validation))"
      ],
      "execution_count": null,
      "outputs": [
        {
          "output_type": "stream",
          "name": "stdout",
          "text": [
            "Model: \"sequential_29\"\n",
            "_________________________________________________________________\n",
            " Layer (type)                Output Shape              Param #   \n",
            "=================================================================\n",
            " dense_60 (Dense)            (None, 512)               4096      \n",
            "                                                                 \n",
            " dropout (Dropout)           (None, 512)               0         \n",
            "                                                                 \n",
            " dense_61 (Dense)            (None, 256)               131328    \n",
            "                                                                 \n",
            " dense_62 (Dense)            (None, 128)               32896     \n",
            "                                                                 \n",
            " dense_63 (Dense)            (None, 1)                 129       \n",
            "                                                                 \n",
            "=================================================================\n",
            "Total params: 168,449\n",
            "Trainable params: 168,449\n",
            "Non-trainable params: 0\n",
            "_________________________________________________________________\n",
            "Train on 741267 samples, validate on 212850 samples\n",
            "Epoch 1/2\n",
            "741120/741267 [============================>.] - ETA: 0s - loss: 0.3872 - precision: 0.9206"
          ]
        },
        {
          "output_type": "stream",
          "name": "stderr",
          "text": [
            "/usr/local/lib/python3.7/dist-packages/keras/engine/training_v1.py:2057: UserWarning: `Model.state_updates` will be removed in a future version. This property should not be used in TensorFlow 2.0, as `updates` are applied automatically.\n",
            "  updates = self.state_updates\n"
          ]
        },
        {
          "output_type": "stream",
          "name": "stdout",
          "text": [
            "741267/741267 [==============================] - 84s 113us/sample - loss: 0.3872 - precision: 0.9205 - val_loss: 0.3786 - val_precision: 0.9228\n",
            "Epoch 2/2\n",
            "741267/741267 [==============================] - 83s 113us/sample - loss: 0.3746 - precision: 0.9227 - val_loss: 0.3714 - val_precision: 0.9233\n"
          ]
        },
        {
          "output_type": "execute_result",
          "data": {
            "text/plain": [
              "<keras.callbacks.History at 0x7f1c17665b10>"
            ]
          },
          "metadata": {},
          "execution_count": 62
        }
      ]
    },
    {
      "cell_type": "markdown",
      "metadata": {
        "id": "xmhKD_GV6yvb"
      },
      "source": [
        "FINAL model for magnitude prediction"
      ]
    },
    {
      "cell_type": "code",
      "metadata": {
        "id": "CaMFDuHYXorn"
      },
      "source": [
        "def model3(optimizer, neurons, activation):\n",
        "    model = Sequential()\n",
        "    #input to the hidden layer\n",
        "    model.add(Dense(neurons*4, activation=activation, input_shape=(7,)))\n",
        "    model.add(Dense(neurons*2, activation='relu'))\n",
        "    model.add(Dense(neurons, activation='tanh'))\n",
        "    model.add(Dense(1, activation='linear'))\n",
        "    model.compile(loss='mean_squared_error', metrics=[RootMeanSquaredError()], optimizer=optimizer)\n",
        "    return model"
      ],
      "execution_count": null,
      "outputs": []
    },
    {
      "cell_type": "code",
      "metadata": {
        "id": "K1eyNt_zwV8C",
        "colab": {
          "base_uri": "https://localhost:8080/"
        },
        "outputId": "6aba4349-3fd2-43f6-c501-8abe8f201775"
      },
      "source": [
        "mm = model3(\"Adam\", 128, 'relu' )\n",
        "mm.summary()\n",
        "mm.fit(X_train, train_magnitude, epochs=5, batch_size=32, validation_data=(X_validation, validation_magnitude))"
      ],
      "execution_count": null,
      "outputs": [
        {
          "output_type": "stream",
          "name": "stdout",
          "text": [
            "Model: \"sequential_28\"\n",
            "_________________________________________________________________\n",
            " Layer (type)                Output Shape              Param #   \n",
            "=================================================================\n",
            " dense_56 (Dense)            (None, 512)               4096      \n",
            "                                                                 \n",
            " dense_57 (Dense)            (None, 256)               131328    \n",
            "                                                                 \n",
            " dense_58 (Dense)            (None, 128)               32896     \n",
            "                                                                 \n",
            " dense_59 (Dense)            (None, 1)                 129       \n",
            "                                                                 \n",
            "=================================================================\n",
            "Total params: 168,449\n",
            "Trainable params: 168,449\n",
            "Non-trainable params: 0\n",
            "_________________________________________________________________\n",
            "Train on 741267 samples, validate on 212850 samples\n",
            "Epoch 1/5\n",
            "740832/741267 [============================>.] - ETA: 0s - loss: 0.3543 - root_mean_squared_error: 0.5952"
          ]
        },
        {
          "output_type": "stream",
          "name": "stderr",
          "text": [
            "/usr/local/lib/python3.7/dist-packages/keras/engine/training_v1.py:2057: UserWarning: `Model.state_updates` will be removed in a future version. This property should not be used in TensorFlow 2.0, as `updates` are applied automatically.\n",
            "  updates = self.state_updates\n"
          ]
        },
        {
          "output_type": "stream",
          "name": "stdout",
          "text": [
            "741267/741267 [==============================] - 79s 107us/sample - loss: 0.3543 - root_mean_squared_error: 0.5952 - val_loss: 0.3391 - val_root_mean_squared_error: 0.5823\n",
            "Epoch 2/5\n",
            "741267/741267 [==============================] - 78s 106us/sample - loss: 0.3313 - root_mean_squared_error: 0.5755 - val_loss: 0.3284 - val_root_mean_squared_error: 0.5730\n",
            "Epoch 3/5\n",
            "741267/741267 [==============================] - 79s 106us/sample - loss: 0.3241 - root_mean_squared_error: 0.5693 - val_loss: 0.3218 - val_root_mean_squared_error: 0.5673\n",
            "Epoch 4/5\n",
            "741267/741267 [==============================] - 79s 106us/sample - loss: 0.3197 - root_mean_squared_error: 0.5654 - val_loss: 0.3176 - val_root_mean_squared_error: 0.5636\n",
            "Epoch 5/5\n",
            "741267/741267 [==============================] - 79s 106us/sample - loss: 0.3164 - root_mean_squared_error: 0.5625 - val_loss: 0.3151 - val_root_mean_squared_error: 0.5613\n"
          ]
        },
        {
          "output_type": "execute_result",
          "data": {
            "text/plain": [
              "<keras.callbacks.History at 0x7f1c177670d0>"
            ]
          },
          "metadata": {},
          "execution_count": 59
        }
      ]
    },
    {
      "cell_type": "code",
      "metadata": {
        "id": "9rDcfXho1bvf",
        "colab": {
          "base_uri": "https://localhost:8080/"
        },
        "outputId": "c07aa4ed-6be2-4813-e6f4-7af6113be7e2"
      },
      "source": [
        "[test_loss, test_acc] =mm.evaluate(X_test, y_test)\n",
        "print(\"for    Evaluation result on Test Data : Loss = {}, accuracy = {}\".format(test_loss, test_acc))"
      ],
      "execution_count": null,
      "outputs": [
        {
          "output_type": "stream",
          "name": "stdout",
          "text": [
            "for    Evaluation result on Test Data : Loss = 0.37986370097738376, accuracy = 0.6163305640220642\n"
          ]
        }
      ]
    },
    {
      "cell_type": "code",
      "metadata": {
        "id": "pPyuCyuH_dvM"
      },
      "source": [
        ""
      ],
      "execution_count": null,
      "outputs": []
    }
  ]
}